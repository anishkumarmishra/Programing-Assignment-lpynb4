{
  "nbformat": 4,
  "nbformat_minor": 0,
  "metadata": {
    "colab": {
      "provenance": []
    },
    "kernelspec": {
      "name": "python3",
      "display_name": "Python 3"
    },
    "language_info": {
      "name": "python"
    }
  },
  "cells": [
    {
      "cell_type": "markdown",
      "source": [
        "###1. Write a Python Program to Find the Factorial of a Number?"
      ],
      "metadata": {
        "id": "hZVGPm3JGotm"
      }
    },
    {
      "cell_type": "code",
      "source": [
        "num = int(input(\"Enter the Number: \"))\n",
        "factorial =1\n",
        "while(num>0):\n",
        "  factorial=factorial*num\n",
        "  num=num-1\n",
        "print(f'The Factorial of {factorial}')"
      ],
      "metadata": {
        "colab": {
          "base_uri": "https://localhost:8080/"
        },
        "id": "Yy0WEbu6Gqzm",
        "outputId": "6dc5dfdc-a208-447c-91f9-f06766d3a964"
      },
      "execution_count": 11,
      "outputs": [
        {
          "output_type": "stream",
          "name": "stdout",
          "text": [
            "Enter the Number: 9\n",
            "The Factorial of 362880\n"
          ]
        }
      ]
    },
    {
      "cell_type": "markdown",
      "source": [
        "###2. Write a Python Program to Display the multiplication Table?"
      ],
      "metadata": {
        "id": "1uRhjaN4P1fg"
      }
    },
    {
      "cell_type": "code",
      "source": [
        "num = int(input(\"Enter the Number: \"))\n",
        "multiplication=int(input(\"Enter the multiplication\"))\n",
        "for i in range(1,num+1):\n",
        "  print(multiplication,\"*\",i ,\"=\",multiplication*i)"
      ],
      "metadata": {
        "colab": {
          "base_uri": "https://localhost:8080/"
        },
        "id": "anOVPrmSQA9f",
        "outputId": "2a56078e-0c79-4abd-abb5-82ac3a5ecc13"
      },
      "execution_count": 16,
      "outputs": [
        {
          "output_type": "stream",
          "name": "stdout",
          "text": [
            "Enter the Number: 10\n",
            "Enter the multiplication5\n",
            "5 * 1 = 5\n",
            "5 * 2 = 10\n",
            "5 * 3 = 15\n",
            "5 * 4 = 20\n",
            "5 * 5 = 25\n",
            "5 * 6 = 30\n",
            "5 * 7 = 35\n",
            "5 * 8 = 40\n",
            "5 * 9 = 45\n",
            "5 * 10 = 50\n"
          ]
        }
      ]
    },
    {
      "cell_type": "markdown",
      "source": [
        "###3. Write a Python Program to Print the Fibonacci sequence?"
      ],
      "metadata": {
        "id": "qzjGkWCHT8aD"
      }
    },
    {
      "cell_type": "code",
      "source": [
        "Fibonacci = int(input(\"Enter the Fibonacci: \"))\n",
        "a=0\n",
        "b=1\n",
        "c=0\n",
        "while (c<=Fibonacci):\n",
        "  print(c)\n",
        "  c= a+b\n",
        "  a=b\n",
        "  b=c"
      ],
      "metadata": {
        "colab": {
          "base_uri": "https://localhost:8080/"
        },
        "id": "2Bov4G-0UA6y",
        "outputId": "644173d5-67a2-4255-cd6e-7373a81bc5cc"
      },
      "execution_count": 22,
      "outputs": [
        {
          "output_type": "stream",
          "name": "stdout",
          "text": [
            "Enter the Fibonacci: 20\n",
            "0\n",
            "1\n",
            "2\n",
            "3\n",
            "5\n",
            "8\n",
            "13\n"
          ]
        }
      ]
    },
    {
      "cell_type": "markdown",
      "source": [
        "###4. Write a Python Program to Check Armstrong Number?"
      ],
      "metadata": {
        "id": "wSW9Ge2sdpOC"
      }
    },
    {
      "cell_type": "code",
      "source": [
        "ArmstrongNumber = input('Enter the Number: ')\n",
        "sum = 0\n",
        "for i in range (len(ArmstrongNumber)):\n",
        "  sum = sum + pow(int(ArmstrongNumber[i]),3)\n",
        "if sum==int(ArmstrongNumber):\n",
        "  print(\"Number is ArmstrongNumber\")\n",
        "else:\n",
        "  print(\"Number is not ArmstrongNumber\")"
      ],
      "metadata": {
        "colab": {
          "base_uri": "https://localhost:8080/"
        },
        "id": "oUwxsAogdtla",
        "outputId": "b154bffc-be05-4738-c4ab-2faf0a1039f3"
      },
      "execution_count": 30,
      "outputs": [
        {
          "output_type": "stream",
          "name": "stdout",
          "text": [
            "Enter the Number: 153\n",
            "Number is ArmstrongNumber\n"
          ]
        }
      ]
    },
    {
      "cell_type": "markdown",
      "source": [
        "###5. Write a Python Program to Find Armstrong Number in an Interval?"
      ],
      "metadata": {
        "id": "4K7d9PaAkgqc"
      }
    },
    {
      "cell_type": "code",
      "source": [
        "def checkArmstrongNumber(in_num, storage):\n",
        "    sum = 0\n",
        "    for char in range(len(in_num)):\n",
        "        sum = sum + pow(int(in_num[char]),3)\n",
        "    if sum == int(in_num):\n",
        "        storage.append(int(in_num))\n",
        "\n",
        "start_interval = int(input('Enter the Start of the Interval: '))\n",
        "end_interval = int(input('Enter the End of the Interval: '))\n",
        "list_of_armstrong = []\n",
        "\n",
        "if start_interval > end_interval:\n",
        "    print(\"Start Interval Cannot be Greater than End Interval\")\n",
        "else:\n",
        "    for number in range(start_interval,end_interval+1):\n",
        "        checkArmstrongNumber(str(number),list_of_armstrong)\n",
        "    print(f'The Armstrong numbers between {start_interval} and {end_interval} are {list_of_armstrong}')\n"
      ],
      "metadata": {
        "colab": {
          "base_uri": "https://localhost:8080/"
        },
        "id": "Ro7lVVZ50q4P",
        "outputId": "85038577-4212-43ad-e1bd-758e9350be90"
      },
      "execution_count": 36,
      "outputs": [
        {
          "output_type": "stream",
          "name": "stdout",
          "text": [
            "Enter the Start of the Interval: 100\n",
            "Enter the End of the Interval: 1000\n",
            "The Armstrong numbers between 100 and 1000 are [153, 370, 371, 407]\n"
          ]
        }
      ]
    },
    {
      "cell_type": "markdown",
      "source": [
        "###6.Write a Python Program to sum of natural numbers ?"
      ],
      "metadata": {
        "id": "zMzoj4uu1FGA"
      }
    },
    {
      "cell_type": "code",
      "source": [
        "def sumOfNaturalNumbers(num):\n",
        "    sum = num*((num+1)/2)\n",
        "    print(f'Sum of {num} natural numbers is {sum}')\n",
        "\n",
        "num = int(input('Enter a number: '))\n",
        "sumOfNaturalNumbers(num)"
      ],
      "metadata": {
        "colab": {
          "base_uri": "https://localhost:8080/"
        },
        "id": "6L2U-L_C1JYP",
        "outputId": "ff3b163a-f884-407f-9fb0-297f88f285ff"
      },
      "execution_count": 37,
      "outputs": [
        {
          "output_type": "stream",
          "name": "stdout",
          "text": [
            "Enter a number: 2\n",
            "Sum of 2 natural numbers is 3.0\n"
          ]
        }
      ]
    }
  ]
}